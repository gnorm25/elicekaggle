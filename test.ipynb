{
 "cells": [
  {
   "cell_type": "code",
   "execution_count": 1,
   "metadata": {},
   "outputs": [
    {
     "name": "stdout",
     "output_type": "stream",
     "text": [
      "Stage1 R2 Score: 0.6698010337938786\n",
      "Stage2 R2 Score: 0.6235980825318347\n",
      "Final Score: 0.6466995581628566\n"
     ]
    }
   ],
   "source": [
    "import numpy as np\n",
    "import pandas as pd\n",
    "from sklearn.metrics import r2_score\n",
    "\n",
    "# 정답 파일 불러오기\n",
    "ground_truth = pd.read_csv('submission_data_filled.csv')\n",
    "\n",
    "# 예측값 불러오기\n",
    "y_pred_stage1 = np.load('submission1.npy')\n",
    "y_pred_stage2 = np.load('submission2.npy')\n",
    "\n",
    "# 정답값에서 Setpoint 컬럼 제외 (Stage1, Stage2)\n",
    "y_true_stage1 = ground_truth[[col for col in ground_truth.columns if 'Stage1.Output' in col and 'Setpoint' not in col]].values\n",
    "y_true_stage2 = ground_truth[[col for col in ground_truth.columns if 'Stage2.Output' in col and 'Setpoint' not in col]].values\n",
    "\n",
    "# R2 스코어 계산 (Stage1, Stage2)\n",
    "r2_stage1 = r2_score(y_true_stage1, y_pred_stage1)\n",
    "r2_stage2 = r2_score(y_true_stage2, y_pred_stage2)\n",
    "\n",
    "# 최종 점수 계산\n",
    "final_score = (r2_stage1 + r2_stage2) / 2\n",
    "\n",
    "print(f\"Stage1 R2 Score: {r2_stage1}\")\n",
    "print(f\"Stage2 R2 Score: {r2_stage2}\")\n",
    "print(f\"Final Score: {final_score}\")\n"
   ]
  }
 ],
 "metadata": {
  "kernelspec": {
   "display_name": "module01",
   "language": "python",
   "name": "python3"
  },
  "language_info": {
   "codemirror_mode": {
    "name": "ipython",
    "version": 3
   },
   "file_extension": ".py",
   "mimetype": "text/x-python",
   "name": "python",
   "nbconvert_exporter": "python",
   "pygments_lexer": "ipython3",
   "version": "3.12.4"
  }
 },
 "nbformat": 4,
 "nbformat_minor": 2
}
